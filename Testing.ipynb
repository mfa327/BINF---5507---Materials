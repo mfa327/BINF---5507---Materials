{
 "cells": [
  {
   "cell_type": "code",
   "execution_count": null,
   "id": "aa2ec89b",
   "metadata": {},
   "outputs": [],
   "source": [
    "# this is a testing notebook for the purposes of this demo."
   ]
  }
 ],
 "metadata": {
  "language_info": {
   "name": "python"
  }
 },
 "nbformat": 4,
 "nbformat_minor": 5
}
